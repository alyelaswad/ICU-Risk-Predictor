{
 "cells": [
  {
   "cell_type": "markdown",
   "id": "7e1fbda1",
   "metadata": {},
   "source": [
    "# In this notebook, our main goal will just be the simple **0/1 mortality prediction** using supervised learning and using only SAPS-I and SOFA"
   ]
  },
  {
   "cell_type": "code",
   "execution_count": 70,
   "id": "5d6b5bb4",
   "metadata": {},
   "outputs": [
    {
     "name": "stdout",
     "output_type": "stream",
     "text": [
      "RecordID             142675\n",
      "SAPS-I                   27\n",
      "SOFA                     14\n",
      "Length_of_stay            9\n",
      "Survival                  7\n",
      "In-hospital_death         1\n",
      "Name: 4000, dtype: int64\n"
     ]
    },
    {
     "data": {
      "text/html": [
       "<div>\n",
       "<style scoped>\n",
       "    .dataframe tbody tr th:only-of-type {\n",
       "        vertical-align: middle;\n",
       "    }\n",
       "\n",
       "    .dataframe tbody tr th {\n",
       "        vertical-align: top;\n",
       "    }\n",
       "\n",
       "    .dataframe thead th {\n",
       "        text-align: right;\n",
       "    }\n",
       "</style>\n",
       "<table border=\"1\" class=\"dataframe\">\n",
       "  <thead>\n",
       "    <tr style=\"text-align: right;\">\n",
       "      <th></th>\n",
       "      <th>RecordID</th>\n",
       "      <th>SAPS-I</th>\n",
       "      <th>SOFA</th>\n",
       "      <th>Length_of_stay</th>\n",
       "      <th>Survival</th>\n",
       "      <th>In-hospital_death</th>\n",
       "    </tr>\n",
       "  </thead>\n",
       "  <tbody>\n",
       "    <tr>\n",
       "      <th>0</th>\n",
       "      <td>132539</td>\n",
       "      <td>6</td>\n",
       "      <td>1</td>\n",
       "      <td>5</td>\n",
       "      <td>-1</td>\n",
       "      <td>0</td>\n",
       "    </tr>\n",
       "    <tr>\n",
       "      <th>1</th>\n",
       "      <td>132540</td>\n",
       "      <td>16</td>\n",
       "      <td>8</td>\n",
       "      <td>8</td>\n",
       "      <td>-1</td>\n",
       "      <td>0</td>\n",
       "    </tr>\n",
       "    <tr>\n",
       "      <th>2</th>\n",
       "      <td>132541</td>\n",
       "      <td>21</td>\n",
       "      <td>11</td>\n",
       "      <td>19</td>\n",
       "      <td>-1</td>\n",
       "      <td>0</td>\n",
       "    </tr>\n",
       "    <tr>\n",
       "      <th>3</th>\n",
       "      <td>132543</td>\n",
       "      <td>7</td>\n",
       "      <td>1</td>\n",
       "      <td>9</td>\n",
       "      <td>575</td>\n",
       "      <td>0</td>\n",
       "    </tr>\n",
       "    <tr>\n",
       "      <th>4</th>\n",
       "      <td>132545</td>\n",
       "      <td>17</td>\n",
       "      <td>2</td>\n",
       "      <td>4</td>\n",
       "      <td>918</td>\n",
       "      <td>0</td>\n",
       "    </tr>\n",
       "    <tr>\n",
       "      <th>...</th>\n",
       "      <td>...</td>\n",
       "      <td>...</td>\n",
       "      <td>...</td>\n",
       "      <td>...</td>\n",
       "      <td>...</td>\n",
       "      <td>...</td>\n",
       "    </tr>\n",
       "    <tr>\n",
       "      <th>11995</th>\n",
       "      <td>163029</td>\n",
       "      <td>18</td>\n",
       "      <td>8</td>\n",
       "      <td>17</td>\n",
       "      <td>-1</td>\n",
       "      <td>0</td>\n",
       "    </tr>\n",
       "    <tr>\n",
       "      <th>11996</th>\n",
       "      <td>163033</td>\n",
       "      <td>9</td>\n",
       "      <td>1</td>\n",
       "      <td>9</td>\n",
       "      <td>-1</td>\n",
       "      <td>0</td>\n",
       "    </tr>\n",
       "    <tr>\n",
       "      <th>11997</th>\n",
       "      <td>163034</td>\n",
       "      <td>13</td>\n",
       "      <td>10</td>\n",
       "      <td>8</td>\n",
       "      <td>-1</td>\n",
       "      <td>0</td>\n",
       "    </tr>\n",
       "    <tr>\n",
       "      <th>11998</th>\n",
       "      <td>163035</td>\n",
       "      <td>20</td>\n",
       "      <td>9</td>\n",
       "      <td>71</td>\n",
       "      <td>96</td>\n",
       "      <td>0</td>\n",
       "    </tr>\n",
       "    <tr>\n",
       "      <th>11999</th>\n",
       "      <td>163037</td>\n",
       "      <td>18</td>\n",
       "      <td>7</td>\n",
       "      <td>21</td>\n",
       "      <td>-1</td>\n",
       "      <td>0</td>\n",
       "    </tr>\n",
       "  </tbody>\n",
       "</table>\n",
       "<p>12000 rows × 6 columns</p>\n",
       "</div>"
      ],
      "text/plain": [
       "       RecordID  SAPS-I  SOFA  Length_of_stay  Survival  In-hospital_death\n",
       "0        132539       6     1               5        -1                  0\n",
       "1        132540      16     8               8        -1                  0\n",
       "2        132541      21    11              19        -1                  0\n",
       "3        132543       7     1               9       575                  0\n",
       "4        132545      17     2               4       918                  0\n",
       "...         ...     ...   ...             ...       ...                ...\n",
       "11995    163029      18     8              17        -1                  0\n",
       "11996    163033       9     1               9        -1                  0\n",
       "11997    163034      13    10               8        -1                  0\n",
       "11998    163035      20     9              71        96                  0\n",
       "11999    163037      18     7              21        -1                  0\n",
       "\n",
       "[12000 rows x 6 columns]"
      ]
     },
     "execution_count": 70,
     "metadata": {},
     "output_type": "execute_result"
    }
   ],
   "source": [
    "import pandas as pd\n",
    "import numpy as np\n",
    "from sklearn import linear_model\n",
    "\n",
    "df1 = pd.read_csv('../data/dataset/Outcomes-a.txt')\n",
    "df2 = pd.read_csv('../data/dataset/Outcomes-b.txt')\n",
    "df3 = pd.read_csv('../data/dataset/Outcomes-c.txt')\n",
    "\n",
    "df = pd.concat([df1,df2,df3], ignore_index=True)\n",
    "print(df.iloc[4000])\n",
    "df"
   ]
  },
  {
   "cell_type": "markdown",
   "id": "58627743",
   "metadata": {},
   "source": [
    "### So now we know that the 3 text files are incorporated correctly into a single pandas dataframe"
   ]
  },
  {
   "cell_type": "code",
   "execution_count": null,
   "id": "89f4407d",
   "metadata": {},
   "outputs": [],
   "source": [
    "inhospital_labels = np.array(df['In-hospital_death'])\n",
    "Survival_labels = np.array(df['Survival'])\n",
    "saps_sofa_data = np.array(df.loc[:, ['SAPS-I', 'SOFA']])"
   ]
  },
  {
   "cell_type": "code",
   "execution_count": 125,
   "id": "8d54ac81",
   "metadata": {},
   "outputs": [
    {
     "data": {
      "text/plain": [
       "0.5879166666666666"
      ]
     },
     "execution_count": 125,
     "metadata": {},
     "output_type": "execute_result"
    }
   ],
   "source": [
    "from sklearn.model_selection import train_test_split\n",
    "from imblearn.over_sampling import SMOTE\n",
    "\n",
    "saps_sofa_training_data_cv, saps_sofa_test_data_cv, inhospital_train_labels_cv, inhospital_test_labels_cv = train_test_split(saps_sofa_training_data, inhospital_labels, test_size=0.2, random_state=None)\n",
    "\n",
    "sm = SMOTE(random_state=0) # using SMOTE as an oversampling technique to oversample deaths\n",
    "X_res, y_res = sm.fit_resample(saps_sofa_training_data_cv, inhospital_train_labels_cv)\n",
    "logr = linear_model.LogisticRegression()\n",
    "logr.fit(X_res,y_res)\n",
    "acc =0\n",
    "for i in range(len(inhospital_test_labels_cv)):\n",
    "    prediction = logr.predict(saps_sofa_test_data_cv[i].reshape(1,-1))\n",
    "    if prediction == inhospital_test_labels_cv[i]:\n",
    "        acc+=1\n",
    "acc/len(inhospital_test_labels_cv)\n"
   ]
  },
  {
   "cell_type": "code",
   "execution_count": 128,
   "id": "63e74bfb",
   "metadata": {},
   "outputs": [
    {
     "data": {
      "image/png": "[encoded data removed]",
      "text/plain": [
       "<Figure size 640x480 with 2 Axes>"
      ]
     },
     "metadata": {},
     "output_type": "display_data"
    }
   ],
   "source": [
    "from sklearn.metrics import confusion_matrix, ConfusionMatrixDisplay\n",
    "import matplotlib.pyplot as plt\n",
    "\n",
    "predictions = logr.predict(saps_sofa_test_data_cv)\n",
    "cm = confusion_matrix(inhospital_test_labels_cv, predictions)\n",
    "\n",
    "disp = ConfusionMatrixDisplay(confusion_matrix=cm, display_labels=[\"Survived\", \"Died\"])\n",
    "disp.plot(cmap='Blues')\n",
    "plt.title(\"Confusion Matrix\")\n",
    "plt.show()\n"
   ]
  }
 ],
 "metadata": {
  "kernelspec": {
   "display_name": "Python 3",
   "language": "python",
   "name": "python3"
  },
  "language_info": {
   "codemirror_mode": {
    "name": "ipython",
    "version": 3
   },
   "file_extension": ".py",
   "mimetype": "text/x-python",
   "name": "python",
   "nbconvert_exporter": "python",
   "pygments_lexer": "ipython3",
   "version": "3.12.4"
  }
 },
 "nbformat": 4,
 "nbformat_minor": 5
}
